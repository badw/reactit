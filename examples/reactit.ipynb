{
 "cells": [
  {
   "cell_type": "code",
   "execution_count": 2,
   "id": "6d270650",
   "metadata": {},
   "outputs": [],
   "source": [
    "%load_ext autoreload\n",
    "%autoreload 2"
   ]
  },
  {
   "cell_type": "code",
   "execution_count": 7,
   "id": "6c1b864f",
   "metadata": {},
   "outputs": [],
   "source": [
    "from reactit.reactit import ReactionsListGenerator\n",
    "from reactit.reactit import MappingtoReaction\n",
    "\n",
    "import tqdm\n",
    "compounds = {0:'CO2', 1:'H2O', 2:'SO2', 3:'NO2', 4:'H2S', 5:'CH4', 6:'CH3', 7:'C2H4',8:'N2',9:'O2',10:'H2',11:'CO',12:'S8',13:'H2SO4',14:'H2O2',15:'HNO3',16:'H2SO3',17:'HNO2'}"
   ]
  },
  {
   "cell_type": "code",
   "execution_count": 8,
   "id": "e1cd66a0",
   "metadata": {},
   "outputs": [
    {
     "name": "stdout",
     "output_type": "stream",
     "text": [
      "done!\n",
      "orig = 1749300... approved =  21420... prescreening =  719\n"
     ]
    },
    {
     "name": "stderr",
     "output_type": "stream",
     "text": [
      "100%|██████████| 719/719 [00:23<00:00, 30.17it/s]"
     ]
    },
    {
     "name": "stdout",
     "output_type": "stream",
     "text": [
      " final =  207..."
     ]
    },
    {
     "name": "stderr",
     "output_type": "stream",
     "text": [
      "\n",
      "/Users/badw/github-projects/reactit/reactit/reactit.py:173: UserWarning: \n",
      " error with (OrderedDict([('CH4', -2*x1 - 2), ('CH3', 4*x1 + 2), ('H2', 1)]), OrderedDict([('C2H4', x1)]))\n",
      "  warnings.warn('\\n error with {}'.format(r))\n",
      "/Users/badw/github-projects/reactit/reactit/reactit.py:173: UserWarning: \n",
      " error with (OrderedDict([('H2O', 2*x1 + 2), ('H2', -x1 - 2)]), OrderedDict([('O2', 1), ('H2O2', x1)]))\n",
      "  warnings.warn('\\n error with {}'.format(r))\n",
      "/Users/badw/github-projects/reactit/reactit/reactit.py:173: UserWarning: \n",
      " error with (OrderedDict([('H2S', -x1 - 2), ('H2SO3', 4*x1 + 2)]), OrderedDict([('O2', 3), ('H2SO4', 3*x1)]))\n",
      "  warnings.warn('\\n error with {}'.format(r))\n",
      "/Users/badw/github-projects/reactit/reactit/reactit.py:173: UserWarning: \n",
      " error with (OrderedDict([('CH4', 2*x1 + 1), ('H2', -2*x1 - 1/2)]), OrderedDict([('CH3', 1), ('C2H4', x1)]))\n",
      "  warnings.warn('\\n error with {}'.format(r))\n"
     ]
    }
   ],
   "source": [
    "rlg = ReactionsListGenerator(no_compounds=50)\n",
    "reactions = list(rlg.iterate(4))\n",
    "\n",
    "print('done!')\n",
    "\n",
    "mappings = MappingtoReaction(reactions = reactions, compounds = compounds)\n",
    "final_reactions = mappings.run_all()"
   ]
  },
  {
   "cell_type": "code",
   "execution_count": 10,
   "id": "91b79931",
   "metadata": {},
   "outputs": [
    {
     "data": {
      "text/plain": [
       "0             4 H2O = 3 H2 + H2O2 + O2\n",
       "1          8 H2 + 12 O2 + S8 = 8 H2SO3\n",
       "2      8 H2 + 24 H2SO4 + S8 = 32 H2SO3\n",
       "3         2 H2O2 + N2 + 2 NO2 = 4 HNO2\n",
       "4         8 H2O2 + 8 O2 + S8 = 8 H2SO4\n",
       "                    ...               \n",
       "202                CO2 + H2 = CO + H2O\n",
       "203        H2 + 2 HNO3 = H2O2 + 2 HNO2\n",
       "204       2 CH3 + 2 H2O = 2 CH4 + H2O2\n",
       "205      H2S + 3 HNO3 = H2SO3 + 3 HNO2\n",
       "206    16 H2O + 8 H2SO4 = 24 H2O2 + S8\n",
       "Length: 207, dtype: object"
      ]
     },
     "execution_count": 10,
     "metadata": {},
     "output_type": "execute_result"
    }
   ],
   "source": [
    "import pandas as pd \n",
    "pd.Series(final_reactions)"
   ]
  },
  {
   "cell_type": "code",
   "execution_count": null,
   "id": "0229b8fe",
   "metadata": {},
   "outputs": [],
   "source": []
  }
 ],
 "metadata": {
  "kernelspec": {
   "display_name": "py311",
   "language": "python",
   "name": "python3"
  },
  "language_info": {
   "codemirror_mode": {
    "name": "ipython",
    "version": 3
   },
   "file_extension": ".py",
   "mimetype": "text/x-python",
   "name": "python",
   "nbconvert_exporter": "python",
   "pygments_lexer": "ipython3",
   "version": "3.11.9"
  }
 },
 "nbformat": 4,
 "nbformat_minor": 5
}
