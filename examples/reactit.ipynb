{
 "cells": [
  {
   "cell_type": "code",
   "execution_count": 1,
   "id": "6d270650",
   "metadata": {},
   "outputs": [],
   "source": [
    "%load_ext autoreload\n",
    "%autoreload 2"
   ]
  },
  {
   "cell_type": "code",
   "execution_count": 18,
   "id": "6c1b864f",
   "metadata": {},
   "outputs": [],
   "source": [
    "from reactit.reactit import ReactionGenerator\n",
    "\n",
    "compounds = {0:'CO2',\n",
    "              1:'H2O', \n",
    "              2:'SO2', \n",
    "              3:'NO2', \n",
    "              4:'H2S', \n",
    "              5:'CH4', \n",
    "              6:'CH3', \n",
    "              7:'C2H4',\n",
    "              8:'N2',\n",
    "              9:'O2',\n",
    "              10:'H2',\n",
    "              11:'CO',\n",
    "              12:'S8',\n",
    "              13:'H2SO4',\n",
    "              14:'H2O2',\n",
    "              15:'HNO3',\n",
    "              16:'H2SO3',\n",
    "              17:'HNO2',\n",
    "              18:'C2H4',\n",
    "              19:'NH4',\n",
    "              20:'NH3',\n",
    "              21:'SO3',\n",
    "              22:'O3',\n",
    "              23:'C2H6',\n",
    "              24:'C3H8',\n",
    "              25:'C2H5OH',\n",
    "              26:'HCHO',\n",
    "              27:'CH3COOH',\n",
    "              28:'C4H10',\n",
    "              29:'CH3NH2',\n",
    "              30:'CH3CONH2'}\n",
    "compounds = {0:'CO2',\n",
    "              1:'H2O', \n",
    "              2:'SO2', \n",
    "              3:'NO2', \n",
    "              4:'H2S', \n",
    "              5:'N2',\n",
    "              6:'O2',\n",
    "              7:'H2',\n",
    "              8:'CO',\n",
    "              9:'H2SO4',\n",
    "              10:'HNO3',\n",
    "              11:'H2SO3',\n",
    "              12:'HNO2'}\n",
    "#compounds = {0:'O2',1:'H2O',2:'H2'}"
   ]
  },
  {
   "cell_type": "code",
   "execution_count": 19,
   "id": "e1cd66a0",
   "metadata": {},
   "outputs": [
    {
     "name": "stderr",
     "output_type": "stream",
     "text": [
      "100%|██████████| 1280/1280 [00:02<00:00, 430.84it/s]\n"
     ]
    }
   ],
   "source": [
    "rlg = ReactionGenerator(compounds=compounds)\n",
    "reactions = rlg.iterate(max_length=5)"
   ]
  },
  {
   "cell_type": "code",
   "execution_count": 20,
   "id": "64e361ee",
   "metadata": {},
   "outputs": [
    {
     "data": {
      "text/plain": [
       "0                       2 H2S + 3 O2 = 2 H2SO3\n",
       "1                          2 NO2 = 1 N2 + 2 O2\n",
       "2                       1 H2S + 2 O2 = 1 H2SO4\n",
       "3                     1 O2 + 2 H2SO3 = 2 H2SO4\n",
       "4                        2 NO2 + 1 H2 = 2 HNO2\n",
       "                        ...                   \n",
       "140    1 SO2 + 1 H2S + 2 HNO3 = 1 N2 + 2 H2SO4\n",
       "141       5 CO2 + 1 H2O + 1 N2 = 5 CO + 2 HNO3\n",
       "142     1 H2S + 2 HNO2 = 1 N2 + 1 H2 + 1 H2SO4\n",
       "143     4 H2O + 1 SO2 + 6 NO2 = 1 H2S + 6 HNO3\n",
       "144     4 SO2 + 3 H2 + 2 HNO2 = 1 N2 + 4 H2SO3\n",
       "Length: 145, dtype: object"
      ]
     },
     "execution_count": 20,
     "metadata": {},
     "output_type": "execute_result"
    }
   ],
   "source": [
    "import pandas as pd \n",
    "pd.Series(reactions)"
   ]
  },
  {
   "cell_type": "code",
   "execution_count": 9,
   "id": "0f90bb26",
   "metadata": {},
   "outputs": [
    {
     "data": {
      "text/html": [
       "<div>\n",
       "<style scoped>\n",
       "    .dataframe tbody tr th:only-of-type {\n",
       "        vertical-align: middle;\n",
       "    }\n",
       "\n",
       "    .dataframe tbody tr th {\n",
       "        vertical-align: top;\n",
       "    }\n",
       "\n",
       "    .dataframe thead th {\n",
       "        text-align: right;\n",
       "    }\n",
       "</style>\n",
       "<table border=\"1\" class=\"dataframe\">\n",
       "  <thead>\n",
       "    <tr style=\"text-align: right;\">\n",
       "      <th></th>\n",
       "      <th>reaction_string</th>\n",
       "      <th>reactants</th>\n",
       "      <th>products</th>\n",
       "    </tr>\n",
       "  </thead>\n",
       "  <tbody>\n",
       "    <tr>\n",
       "      <th>0</th>\n",
       "      <td>2 H2O = 1 O2 + 2 H2</td>\n",
       "      <td>{'H2O': 2}</td>\n",
       "      <td>{'O2': 1, 'H2': 2}</td>\n",
       "    </tr>\n",
       "    <tr>\n",
       "      <th>1</th>\n",
       "      <td>2 NO2 = 1 N2 + 2 O2</td>\n",
       "      <td>{'NO2': 2}</td>\n",
       "      <td>{'N2': 1, 'O2': 2}</td>\n",
       "    </tr>\n",
       "    <tr>\n",
       "      <th>2</th>\n",
       "      <td>2 CO2 = 1 O2 + 2 CO</td>\n",
       "      <td>{'CO2': 2}</td>\n",
       "      <td>{'O2': 1, 'CO': 2}</td>\n",
       "    </tr>\n",
       "    <tr>\n",
       "      <th>3</th>\n",
       "      <td>2 H2O + 1 H2S = 1 SO2 + 3 H2</td>\n",
       "      <td>{'H2O': 2, 'H2S': 1}</td>\n",
       "      <td>{'SO2': 1, 'H2': 3}</td>\n",
       "    </tr>\n",
       "    <tr>\n",
       "      <th>4</th>\n",
       "      <td>2 H2O + 2 SO2 = 2 H2S + 3 O2</td>\n",
       "      <td>{'H2O': 2, 'SO2': 2}</td>\n",
       "      <td>{'H2S': 2, 'O2': 3}</td>\n",
       "    </tr>\n",
       "    <tr>\n",
       "      <th>5</th>\n",
       "      <td>1 SO2 + 1 H2 = 1 H2S + 1 O2</td>\n",
       "      <td>{'SO2': 1, 'H2': 1}</td>\n",
       "      <td>{'H2S': 1, 'O2': 1}</td>\n",
       "    </tr>\n",
       "    <tr>\n",
       "      <th>6</th>\n",
       "      <td>1 CO2 + 1 H2 = 1 H2O + 1 CO</td>\n",
       "      <td>{'CO2': 1, 'H2': 1}</td>\n",
       "      <td>{'H2O': 1, 'CO': 1}</td>\n",
       "    </tr>\n",
       "    <tr>\n",
       "      <th>7</th>\n",
       "      <td>4 CO2 + 1 N2 = 2 NO2 + 4 CO</td>\n",
       "      <td>{'CO2': 4, 'N2': 1}</td>\n",
       "      <td>{'NO2': 2, 'CO': 4}</td>\n",
       "    </tr>\n",
       "    <tr>\n",
       "      <th>8</th>\n",
       "      <td>4 H2O + 1 N2 = 2 NO2 + 4 H2</td>\n",
       "      <td>{'H2O': 4, 'N2': 1}</td>\n",
       "      <td>{'NO2': 2, 'H2': 4}</td>\n",
       "    </tr>\n",
       "    <tr>\n",
       "      <th>9</th>\n",
       "      <td>4 H2O + 4 SO2 + 3 N2 = 6 NO2 + 4 H2S</td>\n",
       "      <td>{'H2O': 4, 'SO2': 4, 'N2': 3}</td>\n",
       "      <td>{'NO2': 6, 'H2S': 4}</td>\n",
       "    </tr>\n",
       "    <tr>\n",
       "      <th>10</th>\n",
       "      <td>2 CO2 + 1 H2S = 1 SO2 + 1 H2 + 2 CO</td>\n",
       "      <td>{'CO2': 2, 'H2S': 1}</td>\n",
       "      <td>{'SO2': 1, 'H2': 1, 'CO': 2}</td>\n",
       "    </tr>\n",
       "    <tr>\n",
       "      <th>11</th>\n",
       "      <td>3 CO2 + 1 H2S = 1 H2O + 1 SO2 + 3 CO</td>\n",
       "      <td>{'CO2': 3, 'H2S': 1}</td>\n",
       "      <td>{'H2O': 1, 'SO2': 1, 'CO': 3}</td>\n",
       "    </tr>\n",
       "    <tr>\n",
       "      <th>12</th>\n",
       "      <td>2 SO2 + 1 N2 + 2 H2 = 2 NO2 + 2 H2S</td>\n",
       "      <td>{'SO2': 2, 'N2': 1, 'H2': 2}</td>\n",
       "      <td>{'NO2': 2, 'H2S': 2}</td>\n",
       "    </tr>\n",
       "  </tbody>\n",
       "</table>\n",
       "</div>"
      ],
      "text/plain": [
       "                         reaction_string                      reactants  \\\n",
       "0                    2 H2O = 1 O2 + 2 H2                     {'H2O': 2}   \n",
       "1                    2 NO2 = 1 N2 + 2 O2                     {'NO2': 2}   \n",
       "2                    2 CO2 = 1 O2 + 2 CO                     {'CO2': 2}   \n",
       "3           2 H2O + 1 H2S = 1 SO2 + 3 H2           {'H2O': 2, 'H2S': 1}   \n",
       "4           2 H2O + 2 SO2 = 2 H2S + 3 O2           {'H2O': 2, 'SO2': 2}   \n",
       "5            1 SO2 + 1 H2 = 1 H2S + 1 O2            {'SO2': 1, 'H2': 1}   \n",
       "6            1 CO2 + 1 H2 = 1 H2O + 1 CO            {'CO2': 1, 'H2': 1}   \n",
       "7            4 CO2 + 1 N2 = 2 NO2 + 4 CO            {'CO2': 4, 'N2': 1}   \n",
       "8            4 H2O + 1 N2 = 2 NO2 + 4 H2            {'H2O': 4, 'N2': 1}   \n",
       "9   4 H2O + 4 SO2 + 3 N2 = 6 NO2 + 4 H2S  {'H2O': 4, 'SO2': 4, 'N2': 3}   \n",
       "10   2 CO2 + 1 H2S = 1 SO2 + 1 H2 + 2 CO           {'CO2': 2, 'H2S': 1}   \n",
       "11  3 CO2 + 1 H2S = 1 H2O + 1 SO2 + 3 CO           {'CO2': 3, 'H2S': 1}   \n",
       "12   2 SO2 + 1 N2 + 2 H2 = 2 NO2 + 2 H2S   {'SO2': 2, 'N2': 1, 'H2': 2}   \n",
       "\n",
       "                         products  \n",
       "0              {'O2': 1, 'H2': 2}  \n",
       "1              {'N2': 1, 'O2': 2}  \n",
       "2              {'O2': 1, 'CO': 2}  \n",
       "3             {'SO2': 1, 'H2': 3}  \n",
       "4             {'H2S': 2, 'O2': 3}  \n",
       "5             {'H2S': 1, 'O2': 1}  \n",
       "6             {'H2O': 1, 'CO': 1}  \n",
       "7             {'NO2': 2, 'CO': 4}  \n",
       "8             {'NO2': 2, 'H2': 4}  \n",
       "9            {'NO2': 6, 'H2S': 4}  \n",
       "10   {'SO2': 1, 'H2': 1, 'CO': 2}  \n",
       "11  {'H2O': 1, 'SO2': 1, 'CO': 3}  \n",
       "12           {'NO2': 2, 'H2S': 2}  "
      ]
     },
     "execution_count": 9,
     "metadata": {},
     "output_type": "execute_result"
    }
   ],
   "source": [
    "pd.DataFrame(mtr.as_dict()).T"
   ]
  },
  {
   "cell_type": "code",
   "execution_count": 2,
   "id": "016f7e77",
   "metadata": {},
   "outputs": [
    {
     "data": {
      "application/vnd.jupyter.widget-view+json": {
       "model_id": "ec399fa9c3384f0eb2ecb8d7df414762",
       "version_major": 2,
       "version_minor": 0
      },
      "text/plain": [
       "  0%|          | 0/12 [00:00<?, ?it/s]"
      ]
     },
     "metadata": {},
     "output_type": "display_data"
    }
   ],
   "source": [
    "def mp_function(iterable):\n",
    "    reactants = {molecule:mappings.parse_molecule(molecule) for molecule in iterable[0]}\n",
    "    products = {molecule:mappings.parse_molecule(molecule) for molecule in iterable[1]}\n",
    "    balanced = mappings.balance_reaction(reactants,products)\n",
    "    if balanced:\n",
    "        return(balanced)\n",
    "    #else:\n",
    "    #    return(None)\n",
    "    \n",
    "import tqdm_pathos \n",
    "\n",
    "rlg = ReactionsListGenerator(no_compounds=len(compounds))\n",
    "reactions = list(rlg.iterate(4))\n",
    "mappings = MappingtoReaction(reactions = reactions, compounds = compounds)\n",
    "approved = mappings.remove_indices(reactions)\n",
    "strings = mappings.convert_to_string(approved)\n",
    "\n",
    "screened = tqdm_pathos.map(mp_function,strings)\n",
    "screened = [x for x in screened if x is not None]"
   ]
  },
  {
   "cell_type": "code",
   "execution_count": 3,
   "id": "0c9ce197",
   "metadata": {},
   "outputs": [
    {
     "data": {
      "text/plain": [
       "0             2 H2O = 1 O2 + 2 H2\n",
       "1             2 NO2 = 1 N2 + 2 O2\n",
       "2             2 CO2 = 1 O2 + 2 CO\n",
       "3    2 H2O + 1 H2S = 1 SO2 + 3 H2\n",
       "4    2 H2O + 2 SO2 = 2 H2S + 3 O2\n",
       "5     1 SO2 + 1 H2 = 1 H2S + 1 O2\n",
       "6     1 CO2 + 1 H2 = 1 H2O + 1 CO\n",
       "7     4 CO2 + 1 N2 = 2 NO2 + 4 CO\n",
       "8     4 H2O + 1 N2 = 2 NO2 + 4 H2\n",
       "dtype: object"
      ]
     },
     "execution_count": 3,
     "metadata": {},
     "output_type": "execute_result"
    }
   ],
   "source": [
    "import pandas as pd \n",
    "pd.Series(screened)"
   ]
  },
  {
   "cell_type": "code",
   "execution_count": 6,
   "id": "805cab14",
   "metadata": {},
   "outputs": [
    {
     "ename": "AttributeError",
     "evalue": "'MappingtoReaction' object has no attribute 'screened'",
     "output_type": "error",
     "traceback": [
      "\u001b[31m---------------------------------------------------------------------------\u001b[39m",
      "\u001b[31mAttributeError\u001b[39m                            Traceback (most recent call last)",
      "\u001b[36mCell\u001b[39m\u001b[36m \u001b[39m\u001b[32mIn[6]\u001b[39m\u001b[32m, line 1\u001b[39m\n\u001b[32m----> \u001b[39m\u001b[32m1\u001b[39m \u001b[43mmappings\u001b[49m\u001b[43m.\u001b[49m\u001b[43mas_dict\u001b[49m\u001b[43m(\u001b[49m\u001b[43m)\u001b[49m\n",
      "\u001b[36mFile \u001b[39m\u001b[32m~/github-projects/reactit/reactit/reactit.py:312\u001b[39m, in \u001b[36mMappingtoReaction.as_dict\u001b[39m\u001b[34m(self)\u001b[39m\n\u001b[32m    311\u001b[39m \u001b[38;5;28;01mdef\u001b[39;00m\u001b[38;5;250m \u001b[39m\u001b[34mas_dict\u001b[39m(\u001b[38;5;28mself\u001b[39m):\n\u001b[32m--> \u001b[39m\u001b[32m312\u001b[39m     _dict = {i:{\u001b[33m'\u001b[39m\u001b[33mreaction_string\u001b[39m\u001b[33m'\u001b[39m:r} \u001b[38;5;28;01mfor\u001b[39;00m i,r \u001b[38;5;129;01min\u001b[39;00m \u001b[38;5;28menumerate\u001b[39m(\u001b[38;5;28;43mself\u001b[39;49m\u001b[43m.\u001b[49m\u001b[43mscreened\u001b[49m)}\n\u001b[32m    313\u001b[39m     \u001b[38;5;28;01mfor\u001b[39;00m i,reaction \u001b[38;5;129;01min\u001b[39;00m _dict.items():\n\u001b[32m    314\u001b[39m         r,p = \u001b[38;5;28mself\u001b[39m.get_reactants_products(reaction[\u001b[33m'\u001b[39m\u001b[33mreaction_string\u001b[39m\u001b[33m'\u001b[39m])\n",
      "\u001b[31mAttributeError\u001b[39m: 'MappingtoReaction' object has no attribute 'screened'"
     ]
    }
   ],
   "source": [
    "mappings.as_dict()"
   ]
  },
  {
   "cell_type": "code",
   "execution_count": null,
   "id": "c316b81c",
   "metadata": {},
   "outputs": [],
   "source": []
  }
 ],
 "metadata": {
  "kernelspec": {
   "display_name": "py311",
   "language": "python",
   "name": "python3"
  },
  "language_info": {
   "codemirror_mode": {
    "name": "ipython",
    "version": 3
   },
   "file_extension": ".py",
   "mimetype": "text/x-python",
   "name": "python",
   "nbconvert_exporter": "python",
   "pygments_lexer": "ipython3",
   "version": "3.11.9"
  }
 },
 "nbformat": 4,
 "nbformat_minor": 5
}
