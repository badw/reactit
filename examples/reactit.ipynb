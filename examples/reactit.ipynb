{
 "cells": [
  {
   "cell_type": "code",
   "execution_count": 2,
   "id": "6d270650",
   "metadata": {},
   "outputs": [],
   "source": [
    "%load_ext autoreload\n",
    "%autoreload 2"
   ]
  },
  {
   "cell_type": "code",
   "execution_count": 35,
   "id": "6c1b864f",
   "metadata": {},
   "outputs": [],
   "source": [
    "from reactit.reactit import ReactionsListGenerator\n",
    "from reactit.reactit import MappingtoReaction\n",
    "\n",
    "import tqdm\n",
    "compounds = {0:'CO2', 1:'H2O', 2:'SO2', 3:'NO2', 4:'H2S', 5:'CH4', 6:'CH3', 7:'C2H4',8:'N2',9:'O2',10:'H2',11:'CO',12:'S8',13:'H2SO4',14:'H2O2',15:'HNO3',16:'H2SO3',17:'HNO2'}\n",
    "#compounds = {0:'O2',1:'H2O',2:'H2'}"
   ]
  },
  {
   "cell_type": "code",
   "execution_count": 36,
   "id": "e1cd66a0",
   "metadata": {},
   "outputs": [
    {
     "name": "stdout",
     "output_type": "stream",
     "text": [
      "done!\n",
      "orig = 30210... approved =  24021... prescreening =  800\n"
     ]
    },
    {
     "name": "stderr",
     "output_type": "stream",
     "text": [
      "100%|██████████| 800/800 [00:26<00:00, 29.79it/s]"
     ]
    },
    {
     "name": "stdout",
     "output_type": "stream",
     "text": [
      " final =  228..."
     ]
    },
    {
     "name": "stderr",
     "output_type": "stream",
     "text": [
      "\n"
     ]
    }
   ],
   "source": [
    "rlg = ReactionsListGenerator(no_compounds=len(compounds))\n",
    "reactions = list(rlg.iterate(4))\n",
    "\n",
    "print('done!')\n",
    "\n",
    "mappings = MappingtoReaction(reactions = reactions, compounds = compounds)\n",
    "final_reactions = mappings.run_all()"
   ]
  },
  {
   "cell_type": "code",
   "execution_count": 38,
   "id": "91b79931",
   "metadata": {},
   "outputs": [
    {
     "data": {
      "text/plain": [
       "0                 2 HNO2 + O2 = 2 HNO3\n",
       "1                   H2O2 + SO2 = H2SO4\n",
       "2                  H2 + 2 NO2 = 2 HNO2\n",
       "3                    8 H2S = 8 H2 + S8\n",
       "4                 C2H4 + 2 CH4 = 4 CH3\n",
       "5               2 H2S + 3 O2 = 2 H2SO3\n",
       "6                H2O2 + 2 NO2 = 2 HNO3\n",
       "7               2 H2SO3 + O2 = 2 H2SO4\n",
       "8                    8 SO2 = 8 O2 + S8\n",
       "9                  2 H2O + O2 = 2 H2O2\n",
       "10                   2 NO2 = N2 + 2 O2\n",
       "11                      H2 + O2 = H2O2\n",
       "12                   2 CH3 = C2H4 + H2\n",
       "13                   2 H2O = H2 + H2O2\n",
       "14                   H2O + SO2 = H2SO3\n",
       "15                 2 CH4 = C2H4 + 2 H2\n",
       "16                   2 H2O = 2 H2 + O2\n",
       "17                   2 CO2 = 2 CO + O2\n",
       "18                  2 CH4 = 2 CH3 + H2\n",
       "19             H2S + 3 H2SO4 = 4 H2SO3\n",
       "20                  H2S + 2 O2 = H2SO4\n",
       "21        2 H2O2 + N2 + 2 NO2 = 4 HNO2\n",
       "22             H2O2 + N2 + O2 = 2 HNO2\n",
       "23         2 H2 + O2 + 2 SO2 = 2 H2SO3\n",
       "24         H2 + H2O2 + 2 SO2 = 2 H2SO3\n",
       "25         4 CH4 = C2H4 + 2 CH3 + 3 H2\n",
       "26             H2 + N2 + 2 O2 = 2 HNO2\n",
       "27        8 H2O2 + 8 O2 + S8 = 8 H2SO4\n",
       "28    8 H2O + 16 H2SO4 + S8 = 24 H2SO3\n",
       "29    8 H2O2 + 8 H2SO4 + S8 = 16 H2SO3\n",
       "30      H2S + 2 H2SO3 + 3 O2 = 3 H2SO4\n",
       "31           H2O2 + N2 + 2 O2 = 2 HNO3\n",
       "32           H2 + 4 HNO3 + N2 = 6 HNO2\n",
       "33        2 H2O + 2 N2 + 5 O2 = 4 HNO3\n",
       "34     8 H2 + 24 H2SO4 + S8 = 32 H2SO3\n",
       "35     16 H2O2 + S8 + 8 SO2 = 16 H2SO3\n",
       "36        2 H2O + O2 + 2 SO2 = 2 H2SO4\n",
       "37         8 H2O + 8 O2 + S8 = 8 H2SO3\n",
       "38         8 H2 + 16 O2 + S8 = 8 H2SO4\n",
       "39         4 H2O + N2 + 6 NO2 = 8 HNO2\n",
       "40          H2 + H2SO4 + SO2 = 2 H2SO3\n",
       "41            4 H2O = 3 H2 + H2O2 + O2\n",
       "42      3 H2O2 + H2S + 3 SO2 = 4 H2SO3\n",
       "43            H2 + 2 NO2 + O2 = 2 HNO3\n",
       "44         8 H2 + 12 O2 + S8 = 8 H2SO3\n",
       "45          H2 + 2 H2O + 2 O2 = 3 H2O2\n",
       "46               H2 + O2 + SO2 = H2SO4\n",
       "47          H2S + H2SO4 + O2 = 2 H2SO3\n",
       "48        8 H2O2 + 4 O2 + S8 = 8 H2SO3\n",
       "49        8 H2O + 12 O2 + S8 = 8 H2SO4\n",
       "dtype: object"
      ]
     },
     "execution_count": 38,
     "metadata": {},
     "output_type": "execute_result"
    }
   ],
   "source": [
    "import pandas as pd \n",
    "pd.Series(final_reactions)[0:50]"
   ]
  },
  {
   "cell_type": "code",
   "execution_count": null,
   "id": "424bc2de",
   "metadata": {},
   "outputs": [],
   "source": []
  }
 ],
 "metadata": {
  "kernelspec": {
   "display_name": "py311",
   "language": "python",
   "name": "python3"
  },
  "language_info": {
   "codemirror_mode": {
    "name": "ipython",
    "version": 3
   },
   "file_extension": ".py",
   "mimetype": "text/x-python",
   "name": "python",
   "nbconvert_exporter": "python",
   "pygments_lexer": "ipython3",
   "version": "3.11.9"
  }
 },
 "nbformat": 4,
 "nbformat_minor": 5
}
