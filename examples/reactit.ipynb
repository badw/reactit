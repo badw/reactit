{
 "cells": [
  {
   "cell_type": "code",
   "execution_count": 1,
   "id": "6d270650",
   "metadata": {},
   "outputs": [],
   "source": [
    "%load_ext autoreload\n",
    "%autoreload 2"
   ]
  },
  {
   "cell_type": "code",
   "execution_count": 26,
   "id": "6c1b864f",
   "metadata": {},
   "outputs": [],
   "source": [
    "from reactit.reactit import ReactionsListGenerator\n",
    "from reactit.reactit import MappingtoReaction\n",
    "\n",
    "import tqdm\n",
    "compounds = {0:'CO2',\n",
    "              1:'H2O', \n",
    "              2:'SO2', \n",
    "              3:'NO2', \n",
    "              4:'H2S', \n",
    "              5:'CH4', \n",
    "              6:'CH3', \n",
    "              7:'C2H4',\n",
    "              8:'N2',\n",
    "              9:'O2',\n",
    "              10:'H2',\n",
    "              11:'CO',\n",
    "              12:'S8',\n",
    "              13:'H2SO4',\n",
    "              14:'H2O2',\n",
    "              15:'HNO3',\n",
    "              16:'H2SO3',\n",
    "              17:'HNO2',\n",
    "              18:'C2H4',\n",
    "              19:'NH4',\n",
    "              20:'NH3',\n",
    "              21:'SO3',\n",
    "              22:'O3',\n",
    "              23:'C2H6',\n",
    "              24:'C3H8',\n",
    "              25:'C2H5OH'}\n",
    "#compounds = {0:'O2',1:'H2O',2:'H2'}"
   ]
  },
  {
   "cell_type": "code",
   "execution_count": 27,
   "id": "e1cd66a0",
   "metadata": {},
   "outputs": [],
   "source": [
    "rlg = ReactionsListGenerator(no_compounds=len(compounds))\n",
    "reactions = list(rlg.iterate(4))"
   ]
  },
  {
   "cell_type": "code",
   "execution_count": 28,
   "id": "968db051",
   "metadata": {},
   "outputs": [
    {
     "name": "stderr",
     "output_type": "stream",
     "text": [
      "100%|██████████| 4090/4090 [00:13<00:00, 302.85it/s]\n"
     ]
    }
   ],
   "source": [
    "mappings = MappingtoReaction(reactions = reactions, compounds = compounds)\n",
    "final_reactions = mappings.run_all()"
   ]
  },
  {
   "cell_type": "code",
   "execution_count": 29,
   "id": "64e361ee",
   "metadata": {},
   "outputs": [
    {
     "data": {
      "text/plain": [
       "0              1 SO2 + 1 H2O2 = 1 H2SO4\n",
       "1              1 CO2 + 3 CH4 = 2 C2H5OH\n",
       "2                  12 O2 + 1 S8 = 8 SO3\n",
       "3                  1 O2 + 1 H2 = 1 H2O2\n",
       "4                  1 H2 + 2 NH3 = 2 NH4\n",
       "                     ...               \n",
       "984      4 CO2 + 1 H2S = 4 CO + 1 H2SO4\n",
       "985    2 CO2 + 10 H2O = 7 H2O2 + 1 C2H6\n",
       "986      5 N2 + 9 H2O2 = 6 HNO3 + 4 NH3\n",
       "987      6 CO2 + 6 C2H6 = 9 C2H4 + 4 O3\n",
       "988      3 CH4 + 2 O2 = 2 H2O2 + 1 C3H8\n",
       "Length: 989, dtype: object"
      ]
     },
     "execution_count": 29,
     "metadata": {},
     "output_type": "execute_result"
    }
   ],
   "source": [
    "import pandas as pd \n",
    "pd.Series(final_reactions)"
   ]
  },
  {
   "cell_type": "code",
   "execution_count": 30,
   "id": "f69fa85f",
   "metadata": {},
   "outputs": [],
   "source": [
    "mappings = MappingtoReaction(reactions = reactions, compounds = compounds)\n",
    "approved = mappings.remove_indices(reactions)\n",
    "strings = mappings.convert_to_string(approved)"
   ]
  },
  {
   "cell_type": "code",
   "execution_count": 31,
   "id": "016f7e77",
   "metadata": {},
   "outputs": [
    {
     "data": {
      "application/vnd.jupyter.widget-view+json": {
       "model_id": "f20b80fb6c6a4b849530322a3a815530",
       "version_major": 2,
       "version_minor": 0
      },
      "text/plain": [
       "  0%|          | 0/4090 [00:00<?, ?it/s]"
      ]
     },
     "metadata": {},
     "output_type": "display_data"
    }
   ],
   "source": [
    "def mp_function(iterable):\n",
    "    reactants = {molecule:mappings.parse_molecule(molecule) for molecule in iterable[0]}\n",
    "    products = {molecule:mappings.parse_molecule(molecule) for molecule in iterable[1]}\n",
    "    balanced = mappings.balance_reaction(reactants,products)\n",
    "    if balanced:\n",
    "        return(balanced)\n",
    "    #else:\n",
    "    #    return(None)\n",
    "    \n",
    "import tqdm_pathos \n",
    "\n",
    "screened = tqdm_pathos.map(mp_function,strings)\n",
    "screened = [x for x in screened if x is not None]"
   ]
  },
  {
   "cell_type": "code",
   "execution_count": 32,
   "id": "0c9ce197",
   "metadata": {},
   "outputs": [
    {
     "data": {
      "text/plain": [
       "0              1 SO2 + 1 H2O2 = 1 H2SO4\n",
       "1              1 CO2 + 3 CH4 = 2 C2H5OH\n",
       "2                  12 O2 + 1 S8 = 8 SO3\n",
       "3                  1 O2 + 1 H2 = 1 H2O2\n",
       "4                  1 H2 + 2 NH3 = 2 NH4\n",
       "                     ...               \n",
       "984      4 CO2 + 1 H2S = 4 CO + 1 H2SO4\n",
       "985    2 CO2 + 10 H2O = 7 H2O2 + 1 C2H6\n",
       "986      5 N2 + 9 H2O2 = 6 HNO3 + 4 NH3\n",
       "987      6 CO2 + 6 C2H6 = 9 C2H4 + 4 O3\n",
       "988      3 CH4 + 2 O2 = 2 H2O2 + 1 C3H8\n",
       "Length: 989, dtype: object"
      ]
     },
     "execution_count": 32,
     "metadata": {},
     "output_type": "execute_result"
    }
   ],
   "source": [
    "import pandas as pd \n",
    "pd.Series(screened)"
   ]
  },
  {
   "cell_type": "code",
   "execution_count": null,
   "id": "c1c080e5",
   "metadata": {},
   "outputs": [],
   "source": []
  }
 ],
 "metadata": {
  "kernelspec": {
   "display_name": "py311",
   "language": "python",
   "name": "python3"
  },
  "language_info": {
   "codemirror_mode": {
    "name": "ipython",
    "version": 3
   },
   "file_extension": ".py",
   "mimetype": "text/x-python",
   "name": "python",
   "nbconvert_exporter": "python",
   "pygments_lexer": "ipython3",
   "version": "3.11.9"
  }
 },
 "nbformat": 4,
 "nbformat_minor": 5
}
