{
 "cells": [
  {
   "cell_type": "code",
   "execution_count": 1,
   "id": "6d270650",
   "metadata": {},
   "outputs": [],
   "source": [
    "%load_ext autoreload\n",
    "%autoreload 2"
   ]
  },
  {
   "cell_type": "code",
   "execution_count": 66,
   "id": "6c1b864f",
   "metadata": {},
   "outputs": [],
   "source": [
    "from reactit.reactit import ReactionGenerator\n",
    "\n",
    "compounds = {0:'CO2',\n",
    "              1:'H2O', \n",
    "              2:'SO2', \n",
    "              3:'NO2', \n",
    "              4:'H2S', \n",
    "              5:'CH4', \n",
    "              6:'CH3', \n",
    "              7:'C2H4',\n",
    "              8:'N2',\n",
    "              9:'O2',\n",
    "              10:'H2',\n",
    "              11:'CO',\n",
    "              12:'S8',\n",
    "              13:'H2SO4',\n",
    "              14:'H2O2',\n",
    "              15:'HNO3',\n",
    "              16:'H2SO3',\n",
    "              17:'HNO2',\n",
    "              18:'C2H4',\n",
    "              19:'NH4',\n",
    "              20:'NH3',\n",
    "              21:'SO3',\n",
    "              22:'O3',\n",
    "              23:'C2H6',\n",
    "              24:'C3H8',\n",
    "              25:'C2H5OH',\n",
    "              26:'HCHO',\n",
    "              27:'CH3COOH',\n",
    "              28:'C4H10',\n",
    "              29:'CH3NH2',\n",
    "              30:'CH3CONH2'}\n",
    "compounds = {0:'CO2',\n",
    "              1:'H2O', \n",
    "              2:'SO2', \n",
    "              3:'NO2', \n",
    "              4:'H2S', \n",
    "              5:'N2',\n",
    "              6:'O2',\n",
    "              7:'H2',\n",
    "              8:'CO',\n",
    "              9:'H2SO4',\n",
    "              10:'HNO3',\n",
    "              11:'H2SO3',\n",
    "              12:'HNO2'}\n",
    "#compounds = {0:'O2',1:'H2O',2:'H2'}"
   ]
  },
  {
   "cell_type": "code",
   "execution_count": 67,
   "id": "e1cd66a0",
   "metadata": {},
   "outputs": [
    {
     "name": "stderr",
     "output_type": "stream",
     "text": [
      "100%|██████████| 1280/1280 [00:02<00:00, 443.48it/s]\n"
     ]
    }
   ],
   "source": [
    "rg = ReactionGenerator(compounds=compounds)\n",
    "reactions = rg.iterate(max_length=5)"
   ]
  },
  {
   "cell_type": "code",
   "execution_count": 68,
   "id": "64e361ee",
   "metadata": {},
   "outputs": [
    {
     "data": {
      "text/plain": [
       "0                         2 H2S + 3 O2 = 2 H2SO3\n",
       "1                            2 NO2 = 1 N2 + 2 O2\n",
       "2                         1 H2S + 2 O2 = 1 H2SO4\n",
       "3                       1 O2 + 2 H2SO3 = 2 H2SO4\n",
       "4                          2 NO2 + 1 H2 = 2 HNO2\n",
       "                         ...                    \n",
       "140       1 H2S + 2 HNO2 = 1 N2 + 1 H2 + 1 H2SO4\n",
       "141       4 H2O + 1 SO2 + 6 NO2 = 1 H2S + 6 HNO3\n",
       "142      4 H2O + 4 N2 + 5 H2SO4 = 5 H2S + 8 HNO3\n",
       "143    1 H2O + 1 N2 + 5 H2SO4 = 2 HNO3 + 5 H2SO3\n",
       "144       4 SO2 + 3 H2 + 2 HNO2 = 1 N2 + 4 H2SO3\n",
       "Length: 145, dtype: object"
      ]
     },
     "execution_count": 68,
     "metadata": {},
     "output_type": "execute_result"
    }
   ],
   "source": [
    "import pandas as pd \n",
    "pd.Series(reactions)"
   ]
  },
  {
   "cell_type": "code",
   "execution_count": null,
   "id": "0f90bb26",
   "metadata": {},
   "outputs": [
    {
     "ename": "AttributeError",
     "evalue": "'list' object has no attribute 'as_dict'",
     "output_type": "error",
     "traceback": [
      "\u001b[31m---------------------------------------------------------------------------\u001b[39m",
      "\u001b[31mAttributeError\u001b[39m                            Traceback (most recent call last)",
      "\u001b[36mCell\u001b[39m\u001b[36m \u001b[39m\u001b[32mIn[69]\u001b[39m\u001b[32m, line 1\u001b[39m\n\u001b[32m----> \u001b[39m\u001b[32m1\u001b[39m pd.DataFrame(\u001b[43mreactions\u001b[49m\u001b[43m.\u001b[49m\u001b[43mas_dict\u001b[49m()).T\n",
      "\u001b[31mAttributeError\u001b[39m: 'list' object has no attribute 'as_dict'"
     ]
    }
   ],
   "source": [
    "pd.DataFrame(rg.as_dict()).T"
   ]
  },
  {
   "cell_type": "code",
   "execution_count": 2,
   "id": "016f7e77",
   "metadata": {},
   "outputs": [
    {
     "data": {
      "application/vnd.jupyter.widget-view+json": {
       "model_id": "ec399fa9c3384f0eb2ecb8d7df414762",
       "version_major": 2,
       "version_minor": 0
      },
      "text/plain": [
       "  0%|          | 0/12 [00:00<?, ?it/s]"
      ]
     },
     "metadata": {},
     "output_type": "display_data"
    }
   ],
   "source": [
    "def mp_function(iterable):\n",
    "    reactants = {molecule:mappings.parse_molecule(molecule) for molecule in iterable[0]}\n",
    "    products = {molecule:mappings.parse_molecule(molecule) for molecule in iterable[1]}\n",
    "    balanced = mappings.balance_reaction(reactants,products)\n",
    "    if balanced:\n",
    "        return(balanced)\n",
    "    #else:\n",
    "    #    return(None)\n",
    "    \n",
    "import tqdm_pathos \n",
    "\n",
    "rlg = ReactionsListGenerator(no_compounds=len(compounds))\n",
    "reactions = list(rlg.iterate(4))\n",
    "mappings = MappingtoReaction(reactions = reactions, compounds = compounds)\n",
    "approved = mappings.remove_indices(reactions)\n",
    "strings = mappings.convert_to_string(approved)\n",
    "\n",
    "screened = tqdm_pathos.map(mp_function,strings)\n",
    "screened = [x for x in screened if x is not None]"
   ]
  },
  {
   "cell_type": "code",
   "execution_count": 3,
   "id": "0c9ce197",
   "metadata": {},
   "outputs": [
    {
     "data": {
      "text/plain": [
       "0             2 H2O = 1 O2 + 2 H2\n",
       "1             2 NO2 = 1 N2 + 2 O2\n",
       "2             2 CO2 = 1 O2 + 2 CO\n",
       "3    2 H2O + 1 H2S = 1 SO2 + 3 H2\n",
       "4    2 H2O + 2 SO2 = 2 H2S + 3 O2\n",
       "5     1 SO2 + 1 H2 = 1 H2S + 1 O2\n",
       "6     1 CO2 + 1 H2 = 1 H2O + 1 CO\n",
       "7     4 CO2 + 1 N2 = 2 NO2 + 4 CO\n",
       "8     4 H2O + 1 N2 = 2 NO2 + 4 H2\n",
       "dtype: object"
      ]
     },
     "execution_count": 3,
     "metadata": {},
     "output_type": "execute_result"
    }
   ],
   "source": [
    "import pandas as pd \n",
    "pd.Series(screened)"
   ]
  },
  {
   "cell_type": "code",
   "execution_count": 6,
   "id": "805cab14",
   "metadata": {},
   "outputs": [
    {
     "ename": "AttributeError",
     "evalue": "'MappingtoReaction' object has no attribute 'screened'",
     "output_type": "error",
     "traceback": [
      "\u001b[31m---------------------------------------------------------------------------\u001b[39m",
      "\u001b[31mAttributeError\u001b[39m                            Traceback (most recent call last)",
      "\u001b[36mCell\u001b[39m\u001b[36m \u001b[39m\u001b[32mIn[6]\u001b[39m\u001b[32m, line 1\u001b[39m\n\u001b[32m----> \u001b[39m\u001b[32m1\u001b[39m \u001b[43mmappings\u001b[49m\u001b[43m.\u001b[49m\u001b[43mas_dict\u001b[49m\u001b[43m(\u001b[49m\u001b[43m)\u001b[49m\n",
      "\u001b[36mFile \u001b[39m\u001b[32m~/github-projects/reactit/reactit/reactit.py:312\u001b[39m, in \u001b[36mMappingtoReaction.as_dict\u001b[39m\u001b[34m(self)\u001b[39m\n\u001b[32m    311\u001b[39m \u001b[38;5;28;01mdef\u001b[39;00m\u001b[38;5;250m \u001b[39m\u001b[34mas_dict\u001b[39m(\u001b[38;5;28mself\u001b[39m):\n\u001b[32m--> \u001b[39m\u001b[32m312\u001b[39m     _dict = {i:{\u001b[33m'\u001b[39m\u001b[33mreaction_string\u001b[39m\u001b[33m'\u001b[39m:r} \u001b[38;5;28;01mfor\u001b[39;00m i,r \u001b[38;5;129;01min\u001b[39;00m \u001b[38;5;28menumerate\u001b[39m(\u001b[38;5;28;43mself\u001b[39;49m\u001b[43m.\u001b[49m\u001b[43mscreened\u001b[49m)}\n\u001b[32m    313\u001b[39m     \u001b[38;5;28;01mfor\u001b[39;00m i,reaction \u001b[38;5;129;01min\u001b[39;00m _dict.items():\n\u001b[32m    314\u001b[39m         r,p = \u001b[38;5;28mself\u001b[39m.get_reactants_products(reaction[\u001b[33m'\u001b[39m\u001b[33mreaction_string\u001b[39m\u001b[33m'\u001b[39m])\n",
      "\u001b[31mAttributeError\u001b[39m: 'MappingtoReaction' object has no attribute 'screened'"
     ]
    }
   ],
   "source": [
    "mappings.as_dict()"
   ]
  },
  {
   "cell_type": "code",
   "execution_count": null,
   "id": "c316b81c",
   "metadata": {},
   "outputs": [],
   "source": []
  }
 ],
 "metadata": {
  "kernelspec": {
   "display_name": "py311",
   "language": "python",
   "name": "python3"
  },
  "language_info": {
   "codemirror_mode": {
    "name": "ipython",
    "version": 3
   },
   "file_extension": ".py",
   "mimetype": "text/x-python",
   "name": "python",
   "nbconvert_exporter": "python",
   "pygments_lexer": "ipython3",
   "version": "3.11.9"
  }
 },
 "nbformat": 4,
 "nbformat_minor": 5
}
